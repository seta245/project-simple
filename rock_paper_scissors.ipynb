{
 "cells": [
  {
   "cell_type": "code",
   "execution_count": 1,
   "metadata": {},
   "outputs": [
    {
     "name": "stdout",
     "output_type": "stream",
     "text": [
      "YOU:  R   COM: R\n",
      "YOU:  S   COM: R\n",
      "YOU:  P   COM: R\n",
      "YOU:  S   COM: P\n",
      "YOU:  P   COM: R\n",
      "YOU WIN :) \n",
      "YOU:  3  -  P\n",
      "COM:  1  -  R\n"
     ]
    }
   ],
   "source": [
    "import random\n",
    "\n",
    "game=[\"R\", \"P\",\"S\"]\n",
    "\n",
    "#R=rock\n",
    "#P=paper\n",
    "#S=scissors\n",
    "\n",
    "computer_print=0\n",
    "you_print=0\n",
    "\n",
    "\n",
    "shart_game=True\n",
    "\n",
    "\n",
    "\n",
    "while(shart_game):\n",
    "\n",
    "    you = input(\"choice (R , P, S): \")\n",
    "\n",
    "    if you==\"0\":\n",
    "        shart_game=False\n",
    "\n",
    "    \n",
    "    rand=random.randint(0,2)\n",
    "    computer=game[rand]\n",
    "\n",
    "\n",
    "    \n",
    "\n",
    "    if you==\"R\" and computer==\"P\":\n",
    "         computer_print=computer_print+1\n",
    "\n",
    "\n",
    "    if you==\"P\" and computer==\"R\":\n",
    "       you_print=you_print+1\n",
    "\n",
    "    if you==\"S\" and computer==\"P\":\n",
    "        you_print=you_print+1\n",
    "\n",
    "    if you==\"S\" and computer==\"R\":\n",
    "        computer_print=computer_print+1\n",
    "\n",
    "\n",
    "    if you==\"R\" and computer==\"S\":\n",
    "        you_print=you_print+1\n",
    "\n",
    "    if you==\"P\" and computer==\"S\":\n",
    "          computer_print=computer_print+1\n",
    "\n",
    "\n",
    "    print(\"YOU: \",you,\"  COM:\", computer)\n",
    " \n",
    "    if you_print>=3 or computer_print>=3:\n",
    "      shart_game=False\n",
    "        \n",
    "\n",
    "\n",
    "if you_print>computer_print:\n",
    "    print(\"YOU WIN :) \")\n",
    "else:\n",
    "    Pirnt(\"YOU LOSE :( \")\n",
    "\n",
    "\n",
    "\n",
    "\n",
    "print(\"YOU: \",you_print, ' - ', you)\n",
    "print(\"COM: \",computer_print, ' - ', computer)\n"
   ]
  }
 ],
 "metadata": {
  "kernelspec": {
   "display_name": "Python 3",
   "language": "python",
   "name": "python3"
  },
  "language_info": {
   "codemirror_mode": {
    "name": "ipython",
    "version": 3
   },
   "file_extension": ".py",
   "mimetype": "text/x-python",
   "name": "python",
   "nbconvert_exporter": "python",
   "pygments_lexer": "ipython3",
   "version": "3.8.10"
  }
 },
 "nbformat": 4,
 "nbformat_minor": 2
}
