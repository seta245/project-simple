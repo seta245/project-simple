{
 "cells": [
  {
   "cell_type": "code",
   "execution_count": 1,
   "metadata": {},
   "outputs": [
    {
     "name": "stdout",
     "output_type": "stream",
     "text": [
      "YOU:  sang   COM: qeychi\n",
      "YOU:     COM: kaqaz\n",
      "YOU:  qeychi   COM: sang\n",
      "YOU:  sang   COM: qeychi\n",
      "YOU:  kaqaz   COM: qeychi\n",
      "YOU:  sang   COM: qeychi\n",
      "YOU WIN :) \n",
      "YOU:  3  -  sang\n",
      "COM:  2  -  qeychi\n"
     ]
    }
   ],
   "source": [
    "import random\n",
    "\n",
    "bazi=[\"sang\", \"kaqaz\",\"qeychi\"]\n",
    "\n",
    "computer_print=0\n",
    "you_print=0\n",
    "\n",
    "\n",
    "shart_bazi=True\n",
    "\n",
    "\n",
    "\n",
    "while(shart_bazi):\n",
    "\n",
    "    you = input(\"choice (sang , kaqaz, qeychi): \")\n",
    "\n",
    "    if you==\"0\":\n",
    "        shart_bazi=False\n",
    "\n",
    "    \n",
    "    rand=random.randint(0,2)\n",
    "    computer=bazi[rand]\n",
    "\n",
    "\n",
    "    \n",
    "\n",
    "    if you==\"sang\" and computer==\"kaqaz\":\n",
    "         computer_print=computer_print+1\n",
    "\n",
    "\n",
    "    if you==\"kaqaz\" and computer==\"sang\":\n",
    "       you_print=you_print+1\n",
    "\n",
    "    if you==\"qeychi\" and computer==\"kaqaz\":\n",
    "        you_print=you_print+1\n",
    "\n",
    "    if you==\"qeychi\" and computer==\"sang\":\n",
    "        computer_print=computer_print+1\n",
    "\n",
    "\n",
    "    if you==\"sang\" and computer==\"qeychi\":\n",
    "        you_print=you_print+1\n",
    "\n",
    "    if you==\"kaqaz\" and computer==\"qeychi\":\n",
    "          computer_print=computer_print+1\n",
    "\n",
    "\n",
    "    print(\"YOU: \",you,\"  COM:\", computer)\n",
    " \n",
    "    if you_print>=3 or computer_print>=3:\n",
    "      shart_bazi=False\n",
    "        \n",
    "\n",
    "\n",
    "if you_print>computer_print:\n",
    "    print(\"YOU WIN :) \")\n",
    "else:\n",
    "    Pirnt(\"YOU LOSE :( \")\n",
    "\n",
    "\n",
    "\n",
    "\n",
    "print(\"YOU: \",you_print, ' - ', you)\n",
    "print(\"COM: \",computer_print, ' - ', computer)\n"
   ]
  }
 ],
 "metadata": {
  "kernelspec": {
   "display_name": "Python 3",
   "language": "python",
   "name": "python3"
  },
  "language_info": {
   "codemirror_mode": {
    "name": "ipython",
    "version": 3
   },
   "file_extension": ".py",
   "mimetype": "text/x-python",
   "name": "python",
   "nbconvert_exporter": "python",
   "pygments_lexer": "ipython3",
   "version": "3.8.10"
  }
 },
 "nbformat": 4,
 "nbformat_minor": 2
}
